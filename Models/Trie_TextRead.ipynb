{
  "nbformat": 4,
  "nbformat_minor": 0,
  "metadata": {
    "colab": {
      "name": "Trie_TextRead.ipynb",
      "provenance": [],
      "collapsed_sections": []
    },
    "kernelspec": {
      "name": "python3",
      "display_name": "Python 3"
    }
  },
  "cells": [
    {
      "cell_type": "code",
      "metadata": {
        "id": "Tf9-wgNrjXvq",
        "colab_type": "code",
        "colab": {}
      },
      "source": [
        "import pandas as pd\n",
        "import io\n",
        "from google.colab import files"
      ],
      "execution_count": 0,
      "outputs": []
    },
    {
      "cell_type": "code",
      "metadata": {
        "id": "i-nN1qdcj9Mi",
        "colab_type": "code",
        "outputId": "c6f0bf0b-bdf3-49c2-d553-323a007a21b5",
        "colab": {
          "resources": {
            "http://localhost:8080/nbextensions/google.colab/files.js": {
              "data": "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",
              "ok": true,
              "headers": [
                [
                  "content-type",
                  "application/javascript"
                ]
              ],
              "status": 200,
              "status_text": ""
            }
          },
          "base_uri": "https://localhost:8080/",
          "height": 75
        }
      },
      "source": [
        "uploaded = files.upload()"
      ],
      "execution_count": 0,
      "outputs": [
        {
          "output_type": "display_data",
          "data": {
            "text/html": [
              "\n",
              "     <input type=\"file\" id=\"files-584b0b6b-0eb6-4afc-b4bc-590b2e555626\" name=\"files[]\" multiple disabled />\n",
              "     <output id=\"result-584b0b6b-0eb6-4afc-b4bc-590b2e555626\">\n",
              "      Upload widget is only available when the cell has been executed in the\n",
              "      current browser session. Please rerun this cell to enable.\n",
              "      </output>\n",
              "      <script src=\"/nbextensions/google.colab/files.js\"></script> "
            ],
            "text/plain": [
              "<IPython.core.display.HTML object>"
            ]
          },
          "metadata": {
            "tags": []
          }
        },
        {
          "output_type": "stream",
          "text": [
            "Saving dataset2.txt to dataset2.txt\n"
          ],
          "name": "stdout"
        }
      ]
    },
    {
      "cell_type": "code",
      "metadata": {
        "id": "S0vaIfh9nYou",
        "colab_type": "code",
        "outputId": "3d7f7e14-4af8-40fa-990f-4d9fd9faf55e",
        "colab": {
          "base_uri": "https://localhost:8080/",
          "height": 35
        }
      },
      "source": [
        "for fn in uploaded.keys():\n",
        "  print('User uploaded file \"{name}\" with length {length} bytes'.format(\n",
        "      name=fn, length=len(uploaded[fn])))"
      ],
      "execution_count": 0,
      "outputs": [
        {
          "output_type": "stream",
          "text": [
            "User uploaded file \"dataset2.txt\" with length 1638 bytes\n"
          ],
          "name": "stdout"
        }
      ]
    },
    {
      "cell_type": "code",
      "metadata": {
        "id": "u7MI0oZGAGwi",
        "colab_type": "code",
        "outputId": "54f61414-2bb8-4629-bd72-80073f4e6a40",
        "colab": {
          "base_uri": "https://localhost:8080/",
          "height": 55
        }
      },
      "source": [
        "data_path = 'dataset2.txt'\n",
        "with open(data_path, 'rb') as f:\n",
        "    lines = [x.decode('utf8').strip() for x in f.readlines()]\n",
        "    print(lines)"
      ],
      "execution_count": 0,
      "outputs": [
        {
          "output_type": "stream",
          "text": [
            "['\\ufeffনা', 'এই', 'না', 'ও', 'করে', 'এই', 'করে', 'এবং', 'হবে', 'এই', 'করে', 'যে', 'কি', 'সেটা', 'হচ্ছে', 'রয়েছে', 'বলে', 'লীগের', 'তৈরি', 'ভাগ', 'আমি', 'বেশি', 'অর্থাৎ', 'হলে', 'শিক্ষক', 'বলা', 'বাংলাদেশ', 'করেছে', 'ইলিশ', 'ধরনের', 'কিংবা', 'প্রশ্ন', 'করি', 'তবে', 'কিছু', 'জমিতে', 'সময়', 'তাহলে', 'আওয়ামী', 'গেছে', 'সময়', 'যাবে', 'দায়', 'প্রয়োজন', 'আইএমএফ', 'সালে', 'রাজনৈতিক', 'কাছে', 'তাতে', 'কখনও', 'এসব', 'হয়তো', 'বছর', 'জামায়াত', 'দেশে', 'পর', 'কৃষকদের', 'এটা', 'তা', 'ছোট', 'পর', 'এদের', 'হয়েছিল', 'গ্রহণ', 'হয়েছিল', 'তাহলে', 'চাল', 'কাছে', 'নূতন', 'আমি', 'আছে', 'হলে', 'বিরুদ্ধে', 'মনে', 'বর্তমান', 'অনেক', 'কারণ', 'ফাঁস', 'সে', 'বিষয়ে', 'অপরাধ', 'করবে', 'ক্ষেত্রে', 'অধিকার', 'খরচ', 'বহুজাতিক', 'পর', 'আগে', 'তখন', 'বিরুদ্ধে', 'স্বাধীন', 'হয়নি', 'বিশ্ববিদ্যালয়ের', 'কম', 'অনেক', 'আন্তর্জাতিক', 'ঘটনা', 'নতুন', 'কেন', 'হলে', 'যা', 'বাংলাদেশের', 'বলতে', 'রাজনীতি', 'গেছে', 'যুক্তরাষ্ট্র', 'টাকা', 'পড়ে']\n"
          ],
          "name": "stdout"
        }
      ]
    },
    {
      "cell_type": "code",
      "metadata": {
        "id": "JbwxBt5QBm1P",
        "colab_type": "code",
        "outputId": "b9361307-2bb0-486a-8b42-a55cbdb3384b",
        "colab": {
          "base_uri": "https://localhost:8080/",
          "height": 1000
        }
      },
      "source": [
        "data_path = 'dataset2.txt'\n",
        "with open(data_path, 'rb') as f:\n",
        "  lines = [x.decode('utf8').strip() for x in f.readlines()]\n",
        "for i in lines:\n",
        "  print(i)"
      ],
      "execution_count": 0,
      "outputs": [
        {
          "output_type": "stream",
          "text": [
            "﻿না\n",
            "এই\n",
            "না\n",
            "ও\n",
            "করে\n",
            "এই\n",
            "করে\n",
            "এবং\n",
            "হবে\n",
            "এই\n",
            "করে\n",
            "যে\n",
            "কি\n",
            "সেটা\n",
            "হচ্ছে\n",
            "রয়েছে\n",
            "বলে\n",
            "লীগের\n",
            "তৈরি\n",
            "ভাগ\n",
            "আমি\n",
            "বেশি\n",
            "অর্থাৎ\n",
            "হলে\n",
            "শিক্ষক\n",
            "বলা\n",
            "বাংলাদেশ\n",
            "করেছে\n",
            "ইলিশ\n",
            "ধরনের\n",
            "কিংবা\n",
            "প্রশ্ন\n",
            "করি\n",
            "তবে\n",
            "কিছু\n",
            "জমিতে\n",
            "সময়\n",
            "তাহলে\n",
            "আওয়ামী\n",
            "গেছে\n",
            "সময়\n",
            "যাবে\n",
            "দায়\n",
            "প্রয়োজন\n",
            "আইএমএফ\n",
            "সালে\n",
            "রাজনৈতিক\n",
            "কাছে\n",
            "তাতে\n",
            "কখনও\n",
            "এসব\n",
            "হয়তো\n",
            "বছর\n",
            "জামায়াত\n",
            "দেশে\n",
            "পর\n",
            "কৃষকদের\n",
            "এটা\n",
            "তা\n",
            "ছোট\n",
            "পর\n",
            "এদের\n",
            "হয়েছিল\n",
            "গ্রহণ\n",
            "হয়েছিল\n",
            "তাহলে\n",
            "চাল\n",
            "কাছে\n",
            "নূতন\n",
            "আমি\n",
            "আছে\n",
            "হলে\n",
            "বিরুদ্ধে\n",
            "মনে\n",
            "বর্তমান\n",
            "অনেক\n",
            "কারণ\n",
            "ফাঁস\n",
            "সে\n",
            "বিষয়ে\n",
            "অপরাধ\n",
            "করবে\n",
            "ক্ষেত্রে\n",
            "অধিকার\n",
            "খরচ\n",
            "বহুজাতিক\n",
            "পর\n",
            "আগে\n",
            "তখন\n",
            "বিরুদ্ধে\n",
            "স্বাধীন\n",
            "হয়নি\n",
            "বিশ্ববিদ্যালয়ের\n",
            "কম\n",
            "অনেক\n",
            "আন্তর্জাতিক\n",
            "ঘটনা\n",
            "নতুন\n",
            "কেন\n",
            "হলে\n",
            "যা\n",
            "বাংলাদেশের\n",
            "বলতে\n",
            "রাজনীতি\n",
            "গেছে\n",
            "যুক্তরাষ্ট্র\n",
            "টাকা\n",
            "পড়ে\n"
          ],
          "name": "stdout"
        }
      ]
    },
    {
      "cell_type": "code",
      "metadata": {
        "id": "v3PTt5cMFaIO",
        "colab_type": "code",
        "outputId": "7edf989b-27c7-4752-fc1a-384e1a775110",
        "colab": {
          "base_uri": "https://localhost:8080/",
          "height": 92
        }
      },
      "source": [
        "\n",
        "class TrieNode(): \n",
        "\tdef __init__(self):             \n",
        "    # Initializing the trie node\n",
        "\t\tself.children = {} \n",
        "\t\tself.last = False\n",
        "\n",
        "class Trie(): \n",
        "\tdef __init__(self):             \n",
        "    # Initialising the trie structure. \n",
        "\t\tself.root = TrieNode() \n",
        "\t\tself.word_list = [] \n",
        "\n",
        "\tdef formTrie(self, words):      \n",
        "    #take the word list as input to form the node of the structure \n",
        "\t\tfor key in words: \n",
        "\t\t\tself.insert(key)\n",
        "\n",
        "\tdef insert(self, key):          \n",
        "    #insert every key of a word in the structure - if it is not existing in the structure\n",
        "\t\tnode = self.root \n",
        "\n",
        "\t\tfor a in list(key): \n",
        "\t\t\tif not node.children.get(a): \n",
        "\t\t\t\tnode.children[a] = TrieNode() \n",
        "\n",
        "\t\t\tnode = node.children[a] \n",
        "\n",
        "\t\tnode.last = True\n",
        "\n",
        "\tdef search(self, key): \n",
        "\t\t\n",
        "\t\t# Searches the given key in trie for a full match  \n",
        "\t\tnode = self.root \n",
        "\t\tfound = True\n",
        "\n",
        "\t\tfor a in list(key): \n",
        "\t\t\tif not node.children.get(a): \n",
        "\t\t\t\tfound = False\n",
        "\t\t\t\tbreak\n",
        "\n",
        "\t\t\tnode = node.children[a] \n",
        "\n",
        "\t\treturn node and node.last and found \n",
        "\n",
        "\tdef suggestionsRec(self, node, word): \n",
        "\t\t\n",
        "\t\t# Method to recursively traverse the trie \n",
        "\t\tif node.last: \n",
        "\t\t\tself.word_list.append(word) \n",
        "\n",
        "\t\tfor a,n in node.children.items(): \n",
        "\t\t\tself.suggestionsRec(n, word + a) \n",
        "\n",
        "\tdef printAutoSuggestions(self, key): \n",
        "\t\t \n",
        "\t\tnode = self.root \n",
        "\t\tnot_found = False\n",
        "\t\ttemp_word = '' \n",
        "\n",
        "\t\tfor a in list(key): \n",
        "\t\t\tif not node.children.get(a): \n",
        "\t\t\t\tnot_found = True\n",
        "\t\t\t\tbreak\n",
        "\n",
        "\t\t\ttemp_word += a \n",
        "\t\t\tnode = node.children[a] \n",
        "\n",
        "\t\tif not_found: \n",
        "\t\t\treturn print(\"No string matched with the prefix\\n\")\n",
        "\t\telif node.last and not node.children: \n",
        "\t\t\treturn print(\"No Strings found\")\n",
        "\n",
        "\t\tself.suggestionsRec(node, temp_word) \n",
        "\n",
        "\t\tfor s in self.word_list: \n",
        "\t\t\tprint(s) \n",
        "\t\t\n",
        "\n",
        "# Driver Code\n",
        "words = []\n",
        "\n",
        "data_path ='dataset2.txt'\n",
        "with open(data_path, 'rb') as f:\n",
        "  words = [x.decode('utf8').strip() for x in f.readlines()]\n",
        "\n",
        "for i in range(0, 5):  \n",
        "  key = input(\"Enter the searched prefix: \")   \n",
        "  status = [\"Not found\", \"Found\"] \n",
        "\n",
        "  t = Trie()  \n",
        "  t.formTrie(words) \n",
        " \n",
        "  t.printAutoSuggestions(key) \n"
      ],
      "execution_count": 0,
      "outputs": [
        {
          "output_type": "stream",
          "text": [
            "Enter the searched prefix: ল\n",
            "লীগের\n"
          ],
          "name": "stdout"
        }
      ]
    }
  ]
}