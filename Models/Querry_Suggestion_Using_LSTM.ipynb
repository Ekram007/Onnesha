{
  "nbformat": 4,
  "nbformat_minor": 0,
  "metadata": {
    "colab": {
      "name": "Querry Suggestion Using LSTM.ipynb",
      "provenance": [],
      "collapsed_sections": [],
      "machine_shape": "hm"
    },
    "kernelspec": {
      "name": "python3",
      "display_name": "Python 3"
    }
  },
  "cells": [
    {
      "cell_type": "code",
      "metadata": {
        "id": "BfWi4usqfXoi",
        "colab_type": "code",
        "outputId": "8ac92cf5-f650-4296-a978-e0185564827f",
        "colab": {
          "base_uri": "https://localhost:8080/",
          "height": 81
        }
      },
      "source": [
        "from keras.preprocessing.text import Tokenizer\n",
        "from keras.models import Sequential\n",
        "from keras.layers import Dense, LSTM, Embedding\n",
        "from keras.utils import to_categorical\n",
        "import numpy as np"
      ],
      "execution_count": 0,
      "outputs": [
        {
          "output_type": "stream",
          "text": [
            "Using TensorFlow backend.\n"
          ],
          "name": "stderr"
        },
        {
          "output_type": "display_data",
          "data": {
            "text/html": [
              "<p style=\"color: red;\">\n",
              "The default version of TensorFlow in Colab will soon switch to TensorFlow 2.x.<br>\n",
              "We recommend you <a href=\"https://www.tensorflow.org/guide/migrate\" target=\"_blank\">upgrade</a> now \n",
              "or ensure your notebook will continue to use TensorFlow 1.x via the <code>%tensorflow_version 1.x</code> magic:\n",
              "<a href=\"https://colab.research.google.com/notebooks/tensorflow_version.ipynb\" target=\"_blank\">more info</a>.</p>\n"
            ],
            "text/plain": [
              "<IPython.core.display.HTML object>"
            ]
          },
          "metadata": {
            "tags": []
          }
        }
      ]
    },
    {
      "cell_type": "code",
      "metadata": {
        "id": "c2N-q5_-F1Pk",
        "colab_type": "code",
        "colab": {}
      },
      "source": [
        "from tensorflow.keras.preprocessing.sequence import pad_sequences"
      ],
      "execution_count": 0,
      "outputs": []
    },
    {
      "cell_type": "code",
      "metadata": {
        "id": "ds0Hcfmi245D",
        "colab_type": "code",
        "colab": {}
      },
      "source": [
        "import re\n",
        "import os\n",
        "import glob\n",
        "import string\n",
        "\n",
        "\n",
        "from gensim.models import Word2Vec\n",
        "from gensim.models import FastText\n",
        "\n",
        "import warnings\n",
        "warnings.filterwarnings(\"ignore\")"
      ],
      "execution_count": 0,
      "outputs": []
    },
    {
      "cell_type": "code",
      "metadata": {
        "id": "vbiG92AMbmv3",
        "colab_type": "code",
        "colab": {}
      },
      "source": [
        "import pandas as pd\n",
        "import io\n",
        "import csv\n",
        "from google.colab import files"
      ],
      "execution_count": 0,
      "outputs": []
    },
    {
      "cell_type": "code",
      "metadata": {
        "id": "rRkgzVF-bFOs",
        "colab_type": "code",
        "outputId": "7c6def4a-d79b-4c18-91f4-2a2fc1a23bf2",
        "colab": {
          "resources": {
            "http://localhost:8080/nbextensions/google.colab/files.js": {
              "data": "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",
              "ok": true,
              "headers": [
                [
                  "content-type",
                  "application/javascript"
                ]
              ],
              "status": 200,
              "status_text": ""
            }
          },
          "base_uri": "https://localhost:8080/",
          "height": 75
        }
      },
      "source": [
        "text = files.upload()"
      ],
      "execution_count": 0,
      "outputs": [
        {
          "output_type": "display_data",
          "data": {
            "text/html": [
              "\n",
              "     <input type=\"file\" id=\"files-17482631-eb74-4f4c-899b-46a181e42589\" name=\"files[]\" multiple disabled />\n",
              "     <output id=\"result-17482631-eb74-4f4c-899b-46a181e42589\">\n",
              "      Upload widget is only available when the cell has been executed in the\n",
              "      current browser session. Please rerun this cell to enable.\n",
              "      </output>\n",
              "      <script src=\"/nbextensions/google.colab/files.js\"></script> "
            ],
            "text/plain": [
              "<IPython.core.display.HTML object>"
            ]
          },
          "metadata": {
            "tags": []
          }
        },
        {
          "output_type": "stream",
          "text": [
            "Saving sadashidhekotha.txt to sadashidhekotha.txt\n"
          ],
          "name": "stdout"
        }
      ]
    },
    {
      "cell_type": "code",
      "metadata": {
        "id": "D9JBvUuHb48V",
        "colab_type": "code",
        "colab": {}
      },
      "source": [
        "data_path = 'sadashidhekotha.txt'\n",
        "with open(data_path, 'r', encoding='utf8') as file:\n",
        "    text = file.read()"
      ],
      "execution_count": 0,
      "outputs": []
    },
    {
      "cell_type": "code",
      "metadata": {
        "id": "pKFv9cqvNzRd",
        "colab_type": "code",
        "outputId": "bd02eca4-dec0-4775-98a4-f91dd1b6611f",
        "colab": {
          "base_uri": "https://localhost:8080/",
          "height": 190
        }
      },
      "source": [
        "\n",
        "text = ''' কোলকাতার কলেজে পড়ে যতিশংকর। থাকে কলুটোলা প্রেসিডেনসি কলেজের মেসে। অমিত তাকে প্রায় বাড়িতে নিআয়ে আসে, খাওয়ায়, তার সঙ্গে না না বই পড়ে, না না অদ্ভুত কথায় তার মনটাকে চমকিয়ে দেয়, মোটরে করে তাকে বেড়িয়ে নিয়ে আসে।\n",
        "\n",
        "তার পর কিছুকাল যতিশংকর অমিতর কোনো নিশ্চিত খবর পায় না। কখনো শোনে সে নৈনিতালে, কখনো উটকামন্ডে। একদিন শুনলে, অমিতর এক বন্ধু ঠাট্টা করে বলছে, সে আজকাল কেটি মিত্তিরের বাইরেকার রঙটা ঘোচাতে উঠেপড়ে লেগেছে। কাজ পেয়েছে মনের মতো, বর্ণান-র করা। এতদিন অমিত মুর্তি গড়বার শখ মেটাত কথা দিয়, আজ পেয়েছে সজীব মানুষ। সে মানুষটিও একে একে আপন উপকার রঙিন পাপড়িগুলো খসাতে রাজি, চরমে ফল ধরবে আশা করে। অমিতর বোন লিসি নাকি বলছে যে, কেটিকে একেবারে চেনাই যায় না, অর্থাৎ তাকে নাকি বডডো বেশি স্বাভাবিক দেখাচ্ছে । বন্ধুদের সে বলে দিয়েছে তাকে কেতকী বলে ডাকতে এটা তার পক্ষে নির্লজ্জতা, যে মেয়ে একদা ফিনফিনে শানি-পুরে শাড়ি পরত সেই লজ্জাবতীর পক্ষে জামা শেমিজ পরারই মতো। অমিত তাকে নাকি নিভৃতে ডাকে কেয়া বলে। এ কথাও লোকে কানাকানি করছে যে, নৈনিতালের সরোবরে নৌকো ভাসিয়ে কেটি তার হাল ধরেছে, আর অমিত তাকে পড়ে শোনাচ্ছে রবি ঠাকুরের ‘ নিরুদ্দেশ যাত্রা’। কিন’, লোকে কী না বলে? যতিশংকর বুঝে নিলে, অমিতর মনটা পাল তুলে চলে গেছে ছুটিতত্ত্বের মাঝদরিয়ায়।\n",
        "\n",
        "অবশেষে অমিত ফিরে এল। শহরে রাষ্ট্র, কেতকীর সঙ্গে তার বিয়ে। অথচ অমিতর নিজে মুখে একদিন ও যতি এ প্রসঙ্গে শোনে নি। অমিতর ব্যবহারেও অনেকখানি বদল ঘটেছে। পূর্বের মতোই যতিকে অমিত ইংরেজী বই কিনে উপহার দেয়, কিন’ তাকে নিয়ে সন্ধেবেলায় সে সব বইয়ের আলোচনা করে না; যদি বুঝতে পারে আলোচনার ধারাটা এখন বইছে এক নতুন খাদে। আজকাল মোটরে বেড়াতে সে যতিকে ডাক পাড়ে না। যতির বয়সে এ কথা বোঝা কঠিন নয় যে, অমিতর ‘ নিরুদ্দেশ যাত্রার পার্টিতে তৃতীয় ব্যক্তির জায়গা হওয়া অসম্ভব।\n",
        "\n",
        "যতি আর থাকতে পারলে না। অমিতকে নিজেই গায়ে পড়ে জিজ্ঞাসা করলে, ‘ অমিতদা, শুনলুম মিস্‌ মিত্রের সঙ্গে তোমার বিয়ে।’\n",
        "\n",
        "অমিত একটু খানি চুপ করে থেকে বললে, ‘ লাবণ্য কি এ খবর জেনেছে?’\n",
        "\n",
        "‘না, আমি তাকে লিখি নি। তোমার মুখে পাকা খবর পাই নি বলে চুপ করে আছি।’\n",
        "\n",
        "খবরটা সত্যি, কিন’ লাবণ্য হয়তো বা ভুল বুঝবে।’\n",
        "\n",
        "যতি হেসে বললে, ‘ এর মধ্যে ভুল বোঝবার জায়গা কোথায়? বিয়ে কর যদি তো বিয়েই করবে, সোজা কথা।’\n",
        "\n",
        "‘দেখো যতি, মানুষের কোনো কথাটাই সোজা নয়। আমরা ডিক্‌শনারিতে যে কথার এক মানে বেঁধে দিই মানব জীবনের মধ্যে মানেটা সাতখানা হয়ে যায় সমুদ্রের কাছে এসে গঙ্গার মতো।’\n",
        "\n",
        "যতি বললে, ‘অর্থাৎ তুমি বলছ বিবাহ মানে বিবাহ নয়?’\n",
        "\n",
        "‘ আমি বলছি বিবাহের হাজারখানা মানে। মানুষের সঙ্গে মিশে তার মানে হয়, মানুষকে বাদ দিয়ে তার মানে বের করতে গেলইে ধাঁধা লাগে।’\n",
        "\n",
        "‘ তোমার বিশেষ মানেটাই বলো-না।’\n",
        "\n",
        "‘ সংজ্ঞা দিয়ে বলা যায় না, জীবন দিয়ে বলতে হয়। যদি বলি ওর মুল মানেটা ভালোবাসা তা হলেও আর একটা কথায় গিয়ে পড়ব; ভালোবাসা কথাটা বিবাহ কথার চেয়ে আরো বেশি জ্যান-।’\n",
        "\n",
        "‘ তা হলে, অমিতদা, কথা বন্ধ করতে হয়ে যে। কথা কাঁধে নিয়ে মানের পিছন পিছন ছুটব, আর মানেটা বাঁয়ে তাড়া করলে ডাইনে আর ডাইনে তাড়া করলে বাঁয়ে মারবে দৌড়, এমন হলে তো কাজ বুজে কাজ চালিয়ে নেওয়া যায়।’ ‘ তবে কি আজকের কথাটাকে একেবারে খতম করতে হবে।’\n",
        "\n",
        "‘ এই আলোচনাটা যদি নিতান-ই জ্ঞানের গরজে হয়, প্রাণের গরজে না হয়, তা হলে খতম করতে দোষ নেই।’\n",
        "\n",
        "‘ ধরে নাও-না প্রাণের গরজেই।’\n",
        "\n",
        "‘ শাবাশ, তবে শোনো।’\n",
        "\n",
        "এই খানে একটু পাদটীকা লাগলে দোষ নেই। অমিতর ছোটো বোন লিসির স্বহস্তে ঢালা চা যতি আজকাল মাঝে মাঝে প্রায়ই পান করে আসছে। অনুমান করা যেতে পারে যে, সেই কারনেই ওর মনে কিছুমাত্র ক্ষোভ নেই যে, অমিত ওর সঙ্গে অপরাহ্নে সাহিত্যলোচনা এবং সায়াহ্নে মোটরে করে বেড়ানো বন্ধ করেছে। অমিতকে ও সর্বন-ঃকরণের ক্ষমা করেছে।\n",
        "\n",
        "অমিত বললে, ‘ অক্সিজেন এক ভাবে বয় হাওয়ায় অদৃশ্য থেকে, সে না হলে প্রাণ বাঁচে না, আবার অক্সিজেন আর-এক ভাবে কয়লার সঙ্গে যোগে জ্বলতে থাকে, সেই আগুন জীবনের নানা কাজে দরকার-দুটোর কোনোটাকেই বাদ দেওয়া চলে না। এখন বুঝতে পেরেছ?’\n",
        "\n",
        "‘ সম্পূর্ণ না, তবে কিনা বোঝা বার ইচ্ছে আছে।’\n",
        "\n",
        "‘ যে ভালোবাসা ব্যাপ্তভাবে আকাশে মুক্ত থাকে অন্তরের মধ্যে সে দেয় সঙ্গ; যে ভালোবাসা বিশেষ ভাবে প্রতিদিনের সব-কিছুতে যুক্ত হয়ে থাকে সংসারে সে দেয় আসঙ্গ। দুটোই আমি চাই।’\n",
        "\n",
        "‘ তোমার কথা ঠিক বুঝছি কি না সেইটেই বুঝতে পারি নে। আর-একটু স্পষ্ট করে বলো অমিতদা।’\n",
        "\n",
        "অমিত বললে, ‘ একদিন আমার সমস্ত ডানা মেলে পেয়েছিলুম আমার ওড়ার আকাশ; আজ আমি পেয়েছি আমার ছোট্টো বাসা, ডানা গুটিয়ে বসেছি। কিন’ আমার আকাশও রইল।’\n",
        "\n",
        "‘ কিন্তু বিবাহে তোমার ঐ সঙ্গ-আসঙ্গ কি একত্রেই মিলতে পারে না?’\n",
        "\n",
        "‘ জীবনে অনেক সুযোগ ঘটতে পারে, কিন্তু ঘটে না। যে মানুষ অর্ধেক রাজত্ব আর রাজকন্যা একসঙ্গেই মিলিয়ে পায় তার ভাগ্য ভালো; যে তা না পায়, দৈবক্রমে তার যদি ডান দিক থেকে মেলে রাজত্ব আর বাঁ দিকে থেকে মেলে রাজকন্যা, সেও বড়ো কম সৌভাগ্য নয়।’\n",
        "\n",
        "‘ কিন্তু-’\n",
        "\n",
        "‘ কিন্তু তুমি যাকে মনে কর রোমানস্‌ সেইটেতে কমতি পড়ে! একটুও না। গল্পের বই থেকেই রোম্যানসের বাঁধা বরাদ্দ ছাঁচে ঢালাই করে জোগাতে হবে নাকি? কিছুতেই না। আমার রোমানস আমিই সৃষ্টি করব। আমার স্বর্গেও রয়ে ঘেল রোম্যানস, আমার মর্তেও ঘটাব রোম্যানস। যারা ওর একটাকে বাঁচাতে গিয়ে আর একটাকে দেউলে করে দেয় তাদেরই তুমি বল রোম্যান্টিক! তার হয় মাছের মতো জলে সাঁতার দেয়, নয় বেড়ালের মতো ডাঙায় বেড়ায়, নয় বাদুড়ের মতো আকাশে ফেরে। আমি রোম্যানসের পরমহংস। ভালোবাসার সত্যকে আমি একই শক্তিতে জলে স’লেও উপলব্ধি করব, আবার আকাশেও। নদীর চরে রইল আমার পাকা দখল, আবার মানসের দিকে যখন যাত্রা করব সেটা হবে আকাশের ফাঁকা রাস্তায়। জয় হোক আমার লাবণ্যর, জয় হোক আমার কেতকীর, আর সব দিক থেকেই ধন্য হোক অমিত রায়।’\n",
        "\n",
        "যতি স্তব্ধ হয়ে বসে রইল, বোধ করি কথাটা তার ঠিক লাগনা। অমিত তার মুখ দেখেই ঈষৎ হেসে বললে, ‘ দেখো ভাই, সব কথা সকলের নয়। আমি যা বলছি হয়তো সেটা আমারই কথা। সেটাকে তোমার কথা বলে বুঝতে গেলেই ভুল বুঝবে, আমাকে গাল দিয়ে বসবে। একের কথার উপর আরের মানে চাপিয়েই পৃথিবীতে মারামারি খুনোখুনি হয়। এবার আমার নিজের কথাটা স্পষ্ট করেই না হয় তোমাকে বলি। রূপক দিয়েই বলতে হবে, নইলে এ-সব কথার রূপ চলে যায়, কথাগুলো লজ্জিত হয়ে ওঠে। কেতকীর সঙ্গে আমার সম্বন্ধ ভালোবাসারই; কিন’ সে যেন ঘড়ায় তোলা জল প্রতিদিন তুলব, প্রতিদিন ব্যবহার করব। আর লাবণ্যর সঙ্গে আমার ভালোবাসা সে রইল দিঘি; সে ঘরে আনবার নয়, আমার মন তাতে সাঁতার দেবে।’\n",
        "\n",
        "যতি একটু কুন্ঠিত হয়ে বললে, ‘ কিন্তু অমিতদা, দুটোর মধ্যে একটাকেই বেছে নিতে হয় না?’\n",
        "\n",
        "‘ যার হয় তারই হয়, আমার হয় না।’\n",
        "\n",
        "‘ কিন্তু শ্রীমতী কেতকী যদি-’\n",
        "\n",
        "‘ তিনি সব জানেন। সম্পূর্ণ বোঝেন কি না বলতে পারি নে। কিন্তু সমস্ত জীবন দিয়ে এইটেই তাঁকে বোঝাব যে, তাঁকে কোথাও ফাঁকি দিচ্ছে নে। এও তাঁকে বুঝতে হবে যে লাবণ্যর কাছে তিনি ঋণী।’\n",
        "\n",
        "‘ তা হোক, শ্রীমতী লাবণ্যকে তো তোমার বিয়ের খবর জানাতে হবে।’\n",
        "\n",
        "‘ নিশ্চয় জানাব। কিন্তু তার আগে একটি চিঠি দিতে চাই, সেটি তুমি পৌছিয়ে দেবে?’\n",
        "\n",
        "‘ দেব।’\n",
        "\n",
        "অমিতর এই চিঠি-\n",
        "\n",
        "সেদিন সন্ধেবেলায় রাস্তায় শেষে এসে যখন দাঁড়ালুম, কবিতা দিয়ে যাত্রা শেষ করেছি। আজও এসে থামলুম একটা রাস্তার শেষে। এই মুহুর্তটির উপর একটি কবিতা রেখে যেতে চাই। আর- কোনো কথার ভার সইবে না। হতভাগা নিবারণ চক্রবর্তীটা যেদিন ধরা পড়ছে সেদিন মরেছে, অতি শৌখিন জলচর মাছের মতো। তাই উপায় না দেখে তোমারই কবির উপর ভার দিলুম আমার শেষ কথাটা তোমাকে জানাবার জন্যে-\n",
        "\n",
        "তব অন্তর্ধানপটে হেরি তব রূপ চিরন্তন,\n",
        "অন্তরে অলক্ষ্যলোকে তোমার অন্তিম আগমন।\n",
        "\n",
        "লভিয়াছি চিরস্পর্শমণি,\n",
        "\n",
        "আমার শূন্যতা তুমি পূর্ণ করি গিয়েছ আপনি।\n",
        "\n",
        "জীবন আঁধার হলে সেইক্ষনে পাইনু সন্ধান\n",
        "\n",
        "সন্ধ্যার দেউলদীপ চিত্তের মন্দিরে তব দান।\n",
        "\n",
        "বিচ্ছেদের হোমবহ্নি হতে\n",
        "\n",
        "পূজামুর্তি ধরি প্রেম দেখা দিল দুঃখের আলোতে।\n",
        "\n",
        "–মিতা\n",
        "তার পরেও আরো কিছুকাল গেল। সেদিন কেতকী গেছে তার বোনের মেয়ের অন্নপ্রাশনে। অমিত গেল না। আরাম-কেদারায় বসে সামনে চৌকিতে পা-দুটো তুলে দিয়ে বিলিয়ম জেমসের পত্রাবলী পড়ছে। এমন সময় যতিশংকর লাবণ্যর লেখা এক চিঠি তার হাতে দিলে। চিঠির এক পাতে শোভনলালের সঙ্গে লাবণ্যর বিবাহের খবর। বিবাহ হবে ছ মাস পরে, জৈষ্ঠ্য মাসে, রামগড়পর্বতের শিখরে। অপর পাতে-\n",
        "\n",
        "কালের যাত্রার ধ্বনি শুনিতে কি পাও?\n",
        "তারি রথ নিত্যই উধাও\n",
        "\n",
        "জাগাইছে অন্তরীক্ষে হৃদয়স্পন্দন-\n",
        "\n",
        "চক্রে পিষ্ট আঁধারের বক্ষ ফাটা তারার ক্রন্দন।\n",
        "\n",
        "ওগো বন্ধু,\n",
        "\n",
        "সেই ধাবমান কাল\n",
        "\n",
        "জড়ায়ে ধরিল মোরে ফেলি তার জাল-\n",
        "\n",
        "তুলে নিল দ্রুত রথে\n",
        "\n",
        "দুঃসাহসী ভ্রমনের পথে\n",
        "\n",
        "তোমা হতে বহু দূরে।\n",
        "\n",
        "মনে হয় অজস্র মৃত্যুরে\n",
        "\n",
        "পার হয়ে আসিলাম\n",
        "\n",
        "আজি নব প্রভাতের শিখরচুড়ায়;\n",
        "\n",
        "রথের চঞ্চল বেগ হাওয়ায় উড়ায়\n",
        "\n",
        "আমার পুরানো নাম।\n",
        "\n",
        "ফিরিবার পথ নাহি;\n",
        "\n",
        "দুর হতে যদি দেখ চাহি\n",
        "\n",
        "পারিবে না চিনিতে আমায়।\n",
        "\n",
        "হে বন্ধু বিদায়।\n",
        "\n",
        "কোনোদিন কর্মহীন পূর্ণ অবকাশে\n",
        "\n",
        "বসন-বাতাসে\n",
        "\n",
        "অতীতের তীর হতে যে রাত্রে বহিবে দীর্ঘশ্বাস,\n",
        "\n",
        "ঝরা বকুলের কান্না ব্যতিবে আকাশ,\n",
        "\n",
        "সেই ক্ষনে খুঁজে দেখো, কিছু মোর পিছে রহিল সে\n",
        "\n",
        "তোমার প্রাণের প্রানে-; বিস্মৃতি প্রদোষে\n",
        "\n",
        "হয়তো দিবে সে জ্যোতি,\n",
        "\n",
        "হয়তো ধরিবে কভু নামহারা স্বপ্নের মুরতি।\n",
        "\n",
        "তবু সে তো স্বপ্ন নয়,\n",
        "\n",
        "সব চেয়ে সত্য মোর, সেই মৃত্যুঞ্জয়-\n",
        "\n",
        "সে আমার প্রেম,\n",
        "\n",
        "তারে আমি রাখিয়া এলেম\n",
        "\n",
        "অপরিবর্তন অর্ঘ্য তোমার উদ্দেশ্যে।\n",
        "\n",
        "পরিবর্তনের স্রোতে আমি যাই ভেসে\n",
        "\n",
        "কালের যাত্রায়।\n",
        "\n",
        "হে বন্ধু, বিদায়।\n",
        "\n",
        "তোমার হয় নি কোনো ক্ষতি।\n",
        "\n",
        "মর্তের মৃত্তিকা মোর, তাই দিয়ে অমৃতমুরতি\n",
        "\n",
        "যদি সৃষ্টি করে থাক, তাহারি আরতি\n",
        "\n",
        "হোক তব সন্ধ্যাবেলা-\n",
        "\n",
        "পুজার সে খেলা\n",
        "\n",
        "ব্যাঘাত পাবে না মোর প্রত্যহের ম্লানস্পর্শ লেগে;\n",
        "\n",
        "তৃষার্ত আবেগবেগে\n",
        "\n",
        "ভ্রষ্ট নাহি হবে তার কোনো ফুল নৈবেদ্যের থালে।\n",
        "\n",
        "তোমার মানস ভোজে সযত্নে সাজালে\n",
        "\n",
        "যে ভাবরসের পাত্র বাণীর তৃষায়\n",
        "\n",
        "তার সাথে দিব না মিশায়ে\n",
        "\n",
        "যা মোর ধুলির ধন, যা মোর চক্ষের জলে ভিজে।\n",
        "\n",
        "আজও তুমি নিজে\n",
        "\n",
        "হয়তো বা করিবে রচন\n",
        "\n",
        "মোর স্মৃতিটুকু দিয়ে স্বপ্নবিষ্ট তোমার বচন।\n",
        "\n",
        "ভার তার না রহিবে, না রহিবে দায়।\n",
        "\n",
        "হে বন্ধু, বিদায়।\n",
        "\n",
        "মোর লাগি করিয়ো না শোক-\n",
        "\n",
        "আমার রয়েছে কর্ম, আমার রয়েছে বিশ্বলোক।\n",
        "\n",
        "মোর পাত্র রিক্ত হয় নাই,\n",
        "\n",
        "শূন্যের করিব পূর্ণ, এই ব্রত বহিব সদাই।\n",
        "\n",
        "উৎকন্ঠ আমার লাগি কেহ যদি প্রতীক্ষিয়া থাকে\n",
        "\n",
        "সেই ধন্য করিবে আমাকে।\n",
        "\n",
        "শুক্লপক্ষ হতে আনি\n",
        "\n",
        "রজনীগন্ধার বৃন্তখানি\n",
        "\n",
        "যে পারে সাজাতে\n",
        "\n",
        "অর্ঘ্যথালা কৃষ্ণপক্ষ রাতে,\n",
        "\n",
        "যে আমারে দেখিবারে পায়\n",
        "\n",
        "অসীম ক্ষমায়\n",
        "\n",
        "ভালোমন্দ মিলায়ে সকলি,\n",
        "\n",
        "এবার পূজায় তারি আপনারে দিতে চাই বলি।\n",
        "\n",
        "তোমারে যা দিয়েছিনু তার\n",
        "\n",
        "পেয়েছে নিঃশেষ অধিকার।\n",
        "\n",
        "হেথা মোর তিলে তিলে দান,\n",
        "\n",
        "করুণ মুহুর্তগুলি গন্ডুষ ভরিয়া করে পান\n",
        "\n",
        "হৃদয় অঞ্জলি হতে মম।\n",
        "\n",
        "ওমো তুমি নিরুপম,\n",
        "\n",
        "হে ঐশ্বর্য্যবান,\n",
        "\n",
        "তোমারে যা দিয়েছিনু সে তোমারি দান;\n",
        "\n",
        "গ্রহন করেছ যত ঋণী তত করেছ আমায়।\n",
        "\n",
        "হে বন্ধু বিদায়। '''\n",
        "words = text.split()\n",
        "# print(words)\n",
        "\n",
        "# Make lines of 4 words each, moving one word at a time\n",
        "seq_length = 4\n",
        "\n",
        "lines = []\n",
        "for i in range(seq_length, len(words)+1):\n",
        "  lines.append(' '.join(words[i-seq_length:i]))\n",
        "\n",
        "#print('lines : {}'.format(lines))\n",
        "  \n",
        "# Instantiate a Tokenizer, then fit it on the lines\n",
        "tokenizer = Tokenizer()\n",
        "tokenizer.fit_on_texts(lines)\n",
        "\n",
        "print(tokenizer)\n",
        "\n",
        "# Turn lines into a sequence of numbers\n",
        "sequences = tokenizer.texts_to_sequences(lines)\n",
        "print(\"Lines: \\n {} \\n Sequences: \\n {}\".format(lines[:5],sequences[:5]))\n",
        "print(sequences)\n",
        "\n",
        "np_sequences = np.asarray(sequences)\n",
        "np_sequences\n"
      ],
      "execution_count": 0,
      "outputs": [
        {
          "output_type": "stream",
          "text": [
            "<keras_preprocessing.text.Tokenizer object at 0x7fd3423beac8>\n",
            "Lines: \n",
            " ['কোলকাতার কলেজে পড়ে যতিশংকর।', 'কলেজে পড়ে যতিশংকর। থাকে', 'পড়ে যতিশংকর। থাকে কলুটোলা', 'যতিশংকর। থাকে কলুটোলা প্রেসিডেনসি', 'থাকে কলুটোলা প্রেসিডেনসি কলেজের'] \n",
            " Sequences: \n",
            " [[925, 924, 53, 230], [924, 53, 230, 36], [53, 230, 36, 231], [230, 36, 231, 232], [36, 231, 232, 233]]\n",
            "[[925, 924, 53, 230], [924, 53, 230, 36], [53, 230, 36, 231], [230, 36, 231, 232], [36, 231, 232, 233], [231, 232, 233, 234], [232, 233, 234, 7], [233, 234, 7, 19], [234, 7, 19, 235], [7, 19, 235, 236], [19, 235, 236, 237], [235, 236, 237, 238], [236, 237, 238, 239], [237, 238, 239, 3], [238, 239, 3, 13], [239, 3, 13, 2], [3, 13, 2, 2], [13, 2, 2, 70], [2, 2, 70, 53], [2, 70, 53, 2], [70, 53, 2, 2], [53, 2, 2, 240], [2, 2, 240, 104], [2, 240, 104, 3], [240, 104, 3, 241], [104, 3, 241, 242], [3, 241, 242, 30], [241, 242, 30, 71], [242, 30, 71, 10], [30, 71, 10, 19], [71, 10, 19, 243], [10, 19, 243, 72], [19, 243, 72, 244], [243, 72, 244, 3], [72, 244, 3, 245], [244, 3, 245, 105], [3, 245, 105, 73], [245, 105, 73, 14], [105, 73, 14, 37], [73, 14, 37, 246], [14, 37, 246, 55], [37, 246, 55, 56], [246, 55, 56, 15], [55, 56, 15, 106], [56, 15, 106, 107], [15, 106, 107, 5], [106, 107, 5, 247], [107, 5, 247, 106], [5, 247, 106, 248], [247, 106, 248, 74], [106, 248, 74, 249], [248, 74, 249, 14], [74, 249, 14, 23], [249, 14, 23, 35], [14, 23, 35, 250], [23, 35, 250, 10], [35, 250, 10, 108], [250, 10, 108, 5], [10, 108, 5, 75], [108, 5, 75, 109], [5, 75, 109, 251], [75, 109, 251, 252], [109, 251, 252, 253], [251, 252, 253, 254], [252, 253, 254, 255], [253, 254, 255, 256], [254, 255, 256, 76], [255, 256, 76, 77], [256, 76, 77, 257], [76, 77, 257, 57], [77, 257, 57, 258, 259], [257, 57, 258, 259, 260], [57, 258, 259, 260, 261], [258, 259, 260, 261, 7], [260, 261, 7, 262], [261, 7, 262, 263], [7, 262, 263, 264], [262, 263, 264, 265], [263, 264, 265, 24], [264, 265, 24, 266], [265, 24, 266, 110], [24, 266, 110, 77], [266, 110, 77, 267], [110, 77, 267, 268], [77, 267, 268, 5], [267, 268, 5, 269], [268, 5, 269, 111], [5, 269, 111, 111], [269, 111, 111, 270], [111, 111, 270, 271], [111, 270, 271, 272], [270, 271, 272, 273], [271, 272, 273, 274], [272, 273, 274, 275], [273, 274, 275, 276], [274, 275, 276, 277], [275, 276, 277, 278], [276, 277, 278, 279], [277, 278, 279, 280], [278, 279, 280, 14], [279, 280, 14, 112], [280, 14, 112, 281], [14, 112, 281, 58], [112, 281, 58, 108], [281, 58, 108, 6], [58, 108, 6, 282], [108, 6, 282, 113], [6, 282, 113, 283], [282, 113, 283, 59], [113, 283, 59, 2], [283, 59, 2, 284], [59, 2, 284, 19], [2, 284, 19, 58], [284, 19, 58, 285], [19, 58, 285, 114], [58, 285, 114, 286], [285, 114, 286, 287], [114, 286, 287, 288], [286, 287, 288, 289], [287, 288, 289, 5], [288, 289, 5, 38], [289, 5, 38, 290], [5, 38, 290, 19], [38, 290, 19, 78], [290, 19, 78, 38], [19, 78, 38, 291], [78, 38, 291, 292], [38, 291, 292, 3], [291, 292, 3, 115], [292, 3, 115, 293], [3, 115, 293, 6], [115, 293, 6, 294], [293, 6, 294, 295], [6, 294, 295, 296], [294, 295, 296, 297, 298], [295, 296, 297, 298, 299], [296, 297, 298, 299, 300], [297, 298, 299, 300, 25], [299, 300, 25, 301], [300, 25, 301, 115], [25, 301, 115, 302], [301, 115, 302, 303], [115, 302, 303, 304], [302, 303, 304, 116], [303, 304, 116, 7], [304, 116, 7, 19], [116, 7, 19, 58], [7, 19, 58, 305], [19, 58, 305, 306], [58, 305, 306, 307], [305, 306, 307, 308], [306, 307, 308, 39], [307, 308, 39, 309], [308, 39, 309, 117], [39, 309, 117, 310], [309, 117, 310, 311], [117, 310, 311, 6], [310, 311, 6, 312], [311, 6, 312, 313], [6, 312, 313, 314], [312, 313, 314, 315], [313, 314, 315, 109], [314, 315, 109, 3], [315, 109, 3, 316], [109, 3, 316, 317], [3, 316, 317, 8], [316, 317, 8, 7], [317, 8, 7, 19], [8, 7, 19, 53], [7, 19, 53, 318], [19, 53, 318, 319], [53, 318, 319, 320], [318, 319, 320, 1], [319, 320, 1, 118], [320, 1, 118, 321], [1, 118, 321, 40], [118, 321, 40, 117], [321, 40, 117, 322], [40, 117, 322, 2], [117, 322, 2, 38], [322, 2, 38, 73], [2, 38, 73, 323], [38, 73, 323, 324], [73, 323, 324, 14], [323, 324, 14, 325], [324, 14, 325, 326], [14, 325, 326, 79], [325, 326, 79, 80], [326, 79, 80, 119], [79, 80, 119, 327], [80, 119, 327, 328], [119, 327, 328, 329], [327, 328, 329, 7], [328, 329, 7, 330], [329, 7, 330, 331], [7, 330, 331, 332], [330, 331, 332, 333], [331, 332, 333, 81], [332, 333, 81, 13], [333, 81, 13, 3], [81, 13, 3, 334], [13, 3, 334, 335], [3, 334, 335, 14], [334, 335, 14, 120], [335, 14, 120, 121], [14, 120, 121, 74], [120, 121, 74, 122], [121, 74, 122, 20], [74, 122, 20, 39], [122, 20, 39, 336], [20, 39, 336, 107], [39, 336, 107, 123], [336, 107, 123, 14], [107, 123, 14, 337], [123, 14, 337, 338], [14, 337, 338, 339], [337, 338, 339, 340], [338, 339, 340, 341], [339, 340, 341, 342], [340, 341, 342, 124], [341, 342, 124, 7], [342, 124, 7, 343], [124, 7, 343, 70], [7, 343, 70, 344], [343, 70, 344, 345], [70, 344, 345, 30], [344, 345, 30, 40], [345, 30, 40, 19], [30, 40, 19, 72], [40, 19, 72, 125], [19, 72, 125, 5], [72, 125, 5, 26], [125, 5, 26, 346], [5, 26, 346, 347], [26, 346, 347, 10], [346, 347, 10, 2], [347, 10, 2, 16], [10, 2, 16, 41], [2, 16, 41, 42], [16, 41, 42, 348], [41, 42, 348, 349], [42, 348, 349, 126], [348, 349, 126, 350], [349, 126, 350, 23], [126, 350, 23, 351], [350, 23, 351, 352], [23, 351, 352, 75], [351, 352, 75, 71], [352, 75, 71, 353], [75, 71, 353, 5], [71, 353, 5, 124], [353, 5, 124, 354], [5, 124, 354, 355], [124, 354, 355, 15], [354, 355, 15, 356], [355, 15, 356, 357], [15, 356, 357, 39], [356, 357, 39, 24], [357, 39, 24, 127], [39, 24, 127, 358], [24, 127, 358, 31], [127, 358, 31, 6], [358, 31, 6, 14], [31, 6, 14, 1], [6, 14, 1, 118], [14, 1, 118, 128], [1, 118, 128, 359], [118, 128, 359, 360], [128, 359, 360, 361], [359, 360, 361, 129], [360, 361, 129, 362], [361, 129, 362, 363], [129, 362, 363, 20], [362, 363, 20, 8], [363, 20, 8, 364], [20, 8, 364, 365], [8, 364, 365, 15], [364, 365, 15, 130], [365, 15, 130, 366], [15, 130, 366, 367], [130, 366, 367, 53], [366, 367, 53, 368], [367, 53, 368, 82], [53, 368, 82, 1], [368, 82, 1, 83], [82, 1, 83, 369], [1, 83, 369, 370], [83, 369, 370, 371], [369, 370, 371, 13], [370, 371, 13, 9], [371, 13, 9, 372], [13, 9, 372, 7], [9, 372, 7, 60], [372, 7, 60, 373], [7, 60, 373, 131], [60, 373, 131, 10], [373, 131, 10, 61], [131, 10, 61, 27], [10, 61, 27, 1], [61, 27, 1, 132], [27, 1, 132, 32], [1, 132, 32, 39], [132, 32, 39, 55], [32, 39, 55, 374, 21], [39, 55, 374, 21, 375], [55, 374, 21, 375, 17], [374, 21, 375, 17, 19], [375, 17, 19, 376], [17, 19, 376, 123], [19, 376, 123, 9], [376, 123, 9, 121], [123, 9, 121, 133], [9, 121, 133, 55], [121, 133, 55, 377], [133, 55, 377, 134], [55, 377, 134, 38], [377, 134, 38, 131], [134, 38, 131, 10], [38, 131, 10, 378], [131, 10, 378, 379], [10, 378, 379, 380], [378, 379, 380, 40], [379, 380, 40, 132], [380, 40, 132, 43], [40, 132, 43, 135], [132, 43, 135, 84], [43, 135, 84, 381], [135, 84, 381, 20], [84, 381, 20, 136], [381, 20, 136, 27], [20, 136, 27, 1], [136, 27, 1, 382], [27, 1, 382, 62], [1, 382, 62, 84], [382, 62, 84, 383], [62, 84, 383, 129], [84, 383, 129, 384], [383, 129, 384, 385], [129, 384, 385, 137], [384, 385, 137, 16], [385, 137, 16, 63], [137, 16, 63, 386], [16, 63, 386, 387], [63, 386, 387, 138], [386, 387, 138, 388], [387, 138, 388, 389], [138, 388, 389, 20], [388, 389, 20, 139], [389, 20, 139, 37], [20, 139, 37, 390], [139, 37, 390, 138], [37, 390, 138, 140], [390, 138, 140, 391], [138, 140, 391, 392], [140, 391, 392, 6], [391, 392, 6, 44], [392, 6, 44, 23], [6, 44, 23, 45], [44, 23, 45, 393], [23, 45, 393, 394], [45, 393, 394, 395], [393, 394, 395, 141], [394, 395, 141, 62], [395, 141, 62, 85], [141, 62, 85, 396], [62, 85, 396, 28], [85, 396, 28, 59], [396, 28, 59, 397], [28, 59, 397, 142], [59, 397, 142, 86], [397, 142, 86, 398], [142, 86, 398, 399], [86, 398, 399, 20], [398, 399, 20, 27], [399, 20, 27, 400], [20, 27, 400, 29], [27, 400, 29, 401], [400, 29, 401, 64], [29, 401, 64, 45], [401, 64, 45, 64], [64, 45, 64, 31, 21], [45, 64, 31, 21, 1], [64, 31, 21, 1, 17], [31, 21, 1, 17, 143], [1, 17, 143, 144], [17, 143, 144, 402], [143, 144, 402, 403], [144, 402, 403, 139], [402, 403, 139, 13], [403, 139, 13, 404], [139, 13, 404, 3], [13, 404, 3, 45], [404, 3, 45, 11], [3, 45, 11, 405], [45, 11, 405, 145], [11, 405, 145, 18], [405, 145, 18, 3], [145, 18, 3, 45], [18, 3, 45, 406], [3, 45, 406, 65], [45, 406, 65, 407], [406, 65, 407, 408], [65, 407, 408, 409], [407, 408, 409, 1], [408, 409, 1, 9], [409, 1, 9, 146], [1, 9, 146, 410], [9, 146, 410, 147, 148], [146, 410, 147, 148, 1], [410, 147, 148, 1, 411], [147, 148, 1, 411, 18], [1, 411, 18, 412], [411, 18, 412, 59], [18, 412, 59, 2], [412, 59, 2, 87], [59, 2, 87, 18], [2, 87, 18, 88], [87, 18, 88, 149], [18, 88, 149, 16], [88, 149, 16, 413], [149, 16, 413, 66], [16, 413, 66, 414], [413, 66, 414, 85], [66, 414, 85, 46], [414, 85, 46, 47], [85, 46, 47, 415], [46, 47, 415, 8], [47, 415, 8, 150], [415, 8, 150, 104], [8, 150, 104, 151], [150, 104, 151, 416], [104, 151, 416, 46], [151, 416, 46, 67], [416, 46, 67, 64], [46, 67, 64, 44], [67, 64, 44, 152], [64, 44, 152, 153], [44, 152, 153, 114], [152, 153, 114, 417, 418], [153, 114, 417, 418, 1], [114, 417, 418, 1, 47], [417, 418, 1, 47, 48], [1, 47, 48, 83], [47, 48, 83, 24], [48, 83, 24, 154], [83, 24, 154, 65], [24, 154, 65, 28], [154, 65, 28, 419], [65, 28, 419, 24], [28, 419, 24, 420], [419, 24, 420, 72], [24, 420, 72, 421], [420, 72, 421, 155], [72, 421, 155, 155], [421, 155, 155, 422], [155, 155, 422, 8], [155, 422, 8, 85], [422, 8, 85, 156], [8, 85, 156, 157], [85, 156, 157, 82], [156, 157, 82, 158], [157, 82, 158, 8], [82, 158, 8, 158], [158, 8, 158, 157], [8, 158, 157, 82], [158, 157, 82, 156], [157, 82, 156, 423], [82, 156, 423, 424], [156, 423, 424, 159], [423, 424, 159, 48], [424, 159, 48, 63], [159, 48, 63, 76], [48, 63, 76, 425], [63, 76, 425, 76], [76, 425, 76, 426], [425, 76, 426, 427], [76, 426, 427, 428], [426, 427, 428, 1], [427, 428, 1, 89], [428, 1, 89, 32], [1, 89, 32, 429], [89, 32, 429, 430], [32, 429, 430, 113], [429, 430, 113, 160], [430, 113, 160, 65], [113, 160, 65, 161], [160, 65, 161, 1], [65, 161, 1, 49], [161, 1, 49, 431], [1, 49, 431, 16], [49, 431, 16, 432, 433], [431, 16, 432, 433, 434], [16, 432, 433, 434, 162], [432, 433, 434, 162, 11], [434, 162, 11, 90], [162, 11, 90, 162], [11, 90, 162, 2], [90, 162, 2, 11], [162, 2, 11, 47], [2, 11, 47, 48], [11, 47, 48, 160], [47, 48, 160, 65], [48, 160, 65, 163], [160, 65, 163, 435], [65, 163, 435, 1], [163, 435, 1, 436], [435, 1, 436, 437, 2], [1, 436, 437, 2, 90], [436, 437, 2, 90, 438], [437, 2, 90, 438, 1], [90, 438, 1, 439], [438, 1, 439, 89], [1, 439, 89, 440], [439, 89, 440, 49], [89, 440, 49, 441], [440, 49, 441, 60], [49, 441, 60, 442], [441, 60, 442, 443], [60, 442, 443, 163], [442, 443, 163, 444], [443, 163, 444, 14], [163, 444, 14, 445], [444, 14, 445, 112], [14, 445, 112, 446], [445, 112, 446, 447], [112, 446, 447, 448], [446, 447, 448, 449], [447, 448, 449, 20], [448, 449, 20, 75], [449, 20, 75, 164], [20, 75, 164, 164], [75, 164, 164, 450], [164, 164, 450, 165], [164, 450, 165, 10], [450, 165, 10, 451], [165, 10, 451, 452], [10, 451, 452, 453], [451, 452, 453, 166], [452, 453, 166, 42], [453, 166, 42, 6], [166, 42, 6, 25], [42, 6, 25, 454], [6, 25, 454, 66], [25, 454, 66, 91], [454, 66, 91, 455], [66, 91, 455, 456], [91, 455, 456, 457], [455, 456, 457, 6], [456, 457, 6, 7], [457, 6, 7, 66], [6, 7, 66, 13], [7, 66, 13, 458], [66, 13, 458, 459], [13, 458, 459, 460], [458, 459, 460, 461], [459, 460, 461, 71], [460, 461, 71, 10], [461, 71, 10, 462], [71, 10, 462, 154], [10, 462, 154, 167], [462, 154, 167, 130], [154, 167, 130, 122], [167, 130, 122, 463, 464], [130, 122, 463, 464, 465], [122, 463, 464, 465, 167], [463, 464, 465, 167, 7], [465, 167, 7, 27], [167, 7, 27, 1], [7, 27, 1, 168], [27, 1, 168, 23], [1, 168, 23, 92], [168, 23, 92, 466], [23, 92, 466, 169], [92, 466, 169, 467], [466, 169, 467, 61], [169, 467, 61, 5], [467, 61, 5, 2], [61, 5, 2, 48], [5, 2, 48, 468], [2, 48, 468, 469], [48, 468, 469, 2], [468, 469, 2, 93], [469, 2, 93, 168], [2, 93, 168, 8, 23], [93, 168, 8, 23, 92], [168, 8, 23, 92, 470], [8, 23, 92, 470, 13], [92, 470, 13, 471], [470, 13, 471, 472], [13, 471, 472, 36], [471, 472, 36, 25], [472, 36, 25, 473], [36, 25, 473, 141], [25, 473, 141, 474], [473, 141, 474, 475], [141, 474, 475, 476, 170], [474, 475, 476, 170, 477], [475, 476, 170, 477, 145], [476, 170, 477, 145, 478], [477, 145, 478, 80], [145, 478, 80, 15], [478, 80, 15, 126], [80, 15, 126, 41], [15, 126, 41, 479, 21], [126, 41, 479, 21, 1], [41, 479, 21, 1, 171], [479, 21, 1, 171, 2], [1, 171, 2, 89], [171, 2, 89, 480], [2, 89, 480, 127], [89, 480, 127, 481], [480, 127, 481, 482], [127, 481, 482, 483], [481, 482, 483, 1], [482, 483, 1, 6], [483, 1, 6, 46], [1, 6, 46, 484], [6, 46, 484, 172], [46, 484, 172, 485], [484, 172, 485, 36], [172, 485, 36, 486], [485, 36, 486, 62], [36, 486, 62, 5], [486, 62, 5, 30], [62, 5, 30, 173], [5, 30, 173, 6], [30, 173, 6, 46], [173, 6, 46, 146], [6, 46, 146, 92], [46, 146, 92, 487], [146, 92, 487, 26, 488], [92, 487, 26, 488, 489], [487, 26, 488, 489, 28], [26, 488, 489, 28, 36], [489, 28, 36, 490], [28, 36, 490, 5], [36, 490, 5, 30], [490, 5, 30, 491], [5, 30, 491, 492], [30, 491, 492, 17], [491, 492, 17, 493], [492, 17, 493, 1], [17, 493, 1, 9], [493, 1, 9, 24], [1, 9, 24, 174], [9, 24, 174, 494], [24, 174, 494, 32], [174, 494, 32, 2], [494, 32, 2, 495], [32, 2, 495, 41], [2, 495, 41, 175], [495, 41, 175, 94], [41, 175, 94, 8, 60], [175, 94, 8, 60, 176], [94, 8, 60, 176, 10], [8, 60, 176, 10, 147], [176, 10, 147, 496], [10, 147, 496, 7], [147, 496, 7, 27], [496, 7, 27, 1], [7, 27, 1, 74], [27, 1, 74, 4], [1, 74, 4, 177], [74, 4, 177, 178], [4, 177, 178, 95], [177, 178, 95, 497], [178, 95, 497, 4], [95, 497, 4, 498], [497, 4, 498, 179], [4, 498, 179, 110], [498, 179, 110, 17], [179, 110, 17, 499], [110, 17, 499, 4], [17, 499, 4, 500], [499, 4, 500, 501], [4, 500, 501, 178], [500, 501, 178, 502], [501, 178, 502, 503], [178, 502, 503, 40], [502, 503, 40, 4], [503, 40, 4, 504], [40, 4, 504, 505], [4, 504, 505, 1], [504, 505, 1, 22], [505, 1, 22, 506], [1, 22, 506, 9], [22, 506, 9, 507], [506, 9, 507, 173, 508], [9, 507, 173, 508, 32], [507, 173, 508, 32, 509], [173, 508, 32, 509, 510], [32, 509, 510, 42], [509, 510, 42, 2, 21], [510, 42, 2, 21, 1], [42, 2, 21, 1, 511], [2, 21, 1, 511, 512], [1, 511, 512, 513], [511, 512, 513, 514], [512, 513, 514, 42], [513, 514, 42, 22], [514, 42, 22, 515], [42, 22, 515, 15], [22, 515, 15, 6], [515, 15, 6, 516], [15, 6, 516, 517], [6, 516, 517, 180], [516, 517, 180, 8], [517, 180, 8, 181], [180, 8, 181, 518], [8, 181, 518, 519], [181, 518, 519, 56], [518, 519, 56, 3], [519, 56, 3, 520], [56, 3, 520, 521], [3, 520, 521, 6], [520, 521, 6, 47], [521, 6, 47, 2], [6, 47, 2, 56], [47, 2, 56, 522], [2, 56, 522, 3], [56, 522, 3, 16], [522, 3, 16, 523], [3, 16, 523, 182], [16, 523, 182, 61], [523, 182, 61, 95], [182, 61, 95, 180], [61, 95, 180, 8], [95, 180, 8, 524], [180, 8, 524, 183], [8, 524, 183, 61], [524, 183, 61, 95], [183, 61, 95, 181], [61, 95, 181, 525], [95, 181, 525, 526], [181, 525, 526, 527], [525, 526, 527, 528], [526, 527, 528, 529], [527, 528, 529, 1], [528, 529, 1, 22, 21], [529, 1, 22, 21, 1], [1, 22, 21, 1, 22], [22, 21, 1, 22, 29], [1, 22, 29, 530], [22, 29, 530, 91], [29, 530, 91, 137], [530, 91, 137, 531], [91, 137, 531, 532], [137, 531, 532, 533], [531, 532, 533, 53], [532, 533, 53, 534], [533, 53, 534, 15], [53, 534, 15, 535], [534, 15, 535, 70], [15, 535, 70, 184], [535, 70, 184, 185], [70, 184, 185, 536], [184, 185, 536, 537], [185, 536, 537, 538], [536, 537, 538, 539], [537, 538, 539, 10], [538, 539, 10, 540], [539, 10, 540, 33], [10, 540, 33, 58], [540, 33, 58, 541], [33, 58, 541, 15], [58, 541, 15, 4], [541, 15, 4, 542], [15, 4, 542, 543], [4, 542, 543, 186], [542, 543, 186, 187], [543, 186, 187, 4], [186, 187, 4, 544], [187, 4, 544, 545], [4, 544, 545, 546], [544, 545, 546, 547], [545, 546, 547, 4], [546, 547, 4, 548], [547, 4, 548, 549], [4, 548, 549, 550], [548, 549, 550, 551], [549, 550, 551, 66], [550, 551, 66, 188], [551, 66, 188, 552], [66, 188, 552, 151], [188, 552, 151, 8], [552, 151, 8, 188], [151, 8, 188, 553], [8, 188, 553, 10], [188, 553, 10, 30], [553, 10, 30, 554], [10, 30, 554, 29], [30, 554, 29, 555], [554, 29, 555, 556], [29, 555, 556, 3], [555, 556, 3, 11], [556, 3, 11, 189], [3, 11, 189, 57], [11, 189, 57, 96], [189, 57, 96, 190], [57, 96, 190, 30], [96, 190, 30, 31], [190, 30, 31, 557], [30, 31, 557, 57], [31, 557, 57, 558], [557, 57, 558, 559], [57, 558, 559, 31], [558, 559, 31, 560], [559, 31, 560, 57], [31, 560, 57, 172], [560, 57, 172, 561], [57, 172, 561, 17], [172, 561, 17, 185], [561, 17, 185, 562], [17, 185, 562, 563], [185, 562, 563, 564], [562, 563, 564, 17], [563, 564, 17, 565], [564, 17, 565, 566], [17, 565, 566, 96], [565, 566, 96, 567], [566, 96, 567, 568], [96, 567, 568, 191], [567, 568, 191, 93], [568, 191, 93, 569], [191, 93, 569, 570], [93, 569, 570, 571], [569, 570, 571, 97], [570, 571, 97, 4], [571, 97, 4, 133], [97, 4, 133, 572], [4, 133, 572, 93], [133, 572, 93, 573], [572, 93, 573, 183], [93, 573, 183, 192], [573, 183, 192, 193], [183, 192, 193, 191], [192, 193, 191, 194], [193, 191, 194, 33], [191, 194, 33, 574], [194, 33, 574, 575], [33, 574, 575, 576], [574, 575, 576, 195], [575, 576, 195, 50], [576, 195, 50, 4], [195, 50, 4, 51], [50, 4, 51, 195], [4, 51, 195, 50], [51, 195, 50, 4], [195, 50, 4, 81], [50, 4, 81, 8], [4, 81, 8, 26], [81, 8, 26, 182], [8, 26, 182, 184], [26, 182, 184, 196], [182, 184, 196, 50], [184, 196, 50, 7], [196, 50, 7, 577], [50, 7, 577, 20], [7, 577, 20, 578], [577, 20, 578, 28], [20, 578, 28, 197], [578, 28, 197, 97], [28, 197, 97, 579], [197, 97, 579, 198], [97, 579, 198, 67], [579, 198, 67, 3], [198, 67, 3, 174], [67, 3, 174, 580], [3, 174, 580, 7], [174, 580, 7, 3], [580, 7, 3, 581], [7, 3, 581, 582], [3, 581, 582, 583], [581, 582, 583, 136], [582, 583, 136, 27], [583, 136, 27, 1], [136, 27, 1, 199], [27, 1, 199, 584], [1, 199, 584, 26], [199, 584, 26, 24], [584, 26, 24, 585], [26, 24, 585, 140], [24, 585, 140, 17], [585, 140, 17, 52], [140, 17, 52, 143], [17, 52, 143, 43], [52, 143, 43, 194], [143, 43, 194, 586], [43, 194, 586, 587], [194, 586, 587, 588], [586, 587, 588, 9], [587, 588, 9, 24], [588, 9, 24, 38], [9, 24, 38, 41], [24, 38, 41, 589], [38, 41, 589, 84], [41, 589, 84, 590], [589, 84, 590, 591], [84, 590, 591, 592], [590, 591, 592, 18], [591, 592, 18, 593], [592, 18, 593, 594], [18, 593, 594, 44], [593, 594, 44, 98], [594, 44, 98, 595], [44, 98, 595, 45], [98, 595, 45, 596], [595, 45, 596, 597], [45, 596, 597, 598], [596, 597, 598, 599], [597, 598, 599, 149], [598, 599, 149, 200], [599, 149, 200, 4], [149, 200, 4, 600], [200, 4, 600, 67], [4, 600, 67, 176], [600, 67, 176, 601], [67, 176, 601, 2], [176, 601, 2, 11], [601, 2, 11, 201], [2, 11, 201, 202], [11, 201, 202, 602], [201, 202, 602, 603], [202, 602, 603, 88], [602, 603, 88, 33], [603, 88, 33, 604], [88, 33, 604, 39, 26], [33, 604, 39, 26, 44], [604, 39, 26, 44, 203], [39, 26, 44, 203, 80], [44, 203, 80, 59], [203, 80, 59, 605], [80, 59, 605, 606], [59, 605, 606, 28], [605, 606, 28, 607], [606, 28, 607, 81], [28, 607, 81, 13], [607, 81, 13, 4], [81, 13, 4, 608], [13, 4, 608, 609], [4, 608, 609, 40], [608, 609, 40, 5], [609, 40, 5, 610], [40, 5, 610, 611], [5, 610, 611, 612], [610, 611, 612, 613], [611, 612, 613, 204], [612, 613, 204, 614], [613, 204, 614, 204], [204, 614, 204, 615], [614, 204, 615, 187], [204, 615, 187, 8], [615, 187, 8, 51], [187, 8, 51, 13], [8, 51, 13, 4], [51, 13, 4, 46], [13, 4, 46, 5], [4, 46, 5, 97], [46, 5, 97, 616], [5, 97, 616, 5], [97, 616, 5, 617], [616, 5, 617, 618], [5, 617, 618, 31], [617, 618, 31, 4], [618, 31, 4, 619], [31, 4, 619, 620], [4, 619, 620, 190], [619, 620, 190, 621], [620, 190, 621, 20], [190, 621, 20, 60], [621, 20, 60, 622], [20, 60, 622, 28], [60, 622, 28, 27], [622, 28, 27, 1], [28, 27, 1, 22], [27, 1, 22, 83], [1, 22, 83, 170], [22, 83, 170, 62], [83, 170, 62, 623], [170, 62, 623, 624], [62, 623, 624, 625], [623, 624, 625, 11], [624, 625, 11, 2, 21], [625, 11, 2, 21, 1], [11, 2, 21, 1, 626], [2, 21, 1, 626, 11], [1, 626, 11, 627], [626, 11, 627, 11], [11, 627, 11, 4], [627, 11, 4, 11], [11, 4, 11, 148], [4, 11, 148, 1], [11, 148, 1, 22], [148, 1, 22, 205], [1, 22, 205, 78], [22, 205, 78, 16, 21], [205, 78, 16, 21, 1], [78, 16, 21, 1, 206], [16, 21, 1, 206, 26], [1, 206, 26, 628], [206, 26, 628, 171], [26, 628, 171, 629], [628, 171, 629, 32], [171, 629, 32, 2], [629, 32, 2, 88], [32, 2, 88, 175], [2, 88, 175, 94], [88, 175, 94, 22], [175, 94, 22, 177], [94, 22, 177, 87], [22, 177, 87, 18], [177, 87, 18, 630], [87, 18, 630, 99], [18, 630, 99, 631], [630, 99, 631, 6], [99, 631, 6, 99], [631, 6, 99, 632], [6, 99, 632, 633], [99, 632, 633, 634], [632, 633, 634, 94], [633, 634, 94, 635], [634, 94, 635, 99], [94, 635, 99, 41], [635, 99, 41, 33], [99, 41, 33, 6], [41, 33, 6, 51], [33, 6, 51, 142], [6, 51, 142, 206], [51, 142, 206, 636], [142, 206, 636, 1], [206, 636, 1, 47], [636, 1, 47, 50], [1, 47, 50, 205], [47, 50, 205, 637], [50, 205, 637, 63], [205, 637, 63, 9], [637, 63, 9, 638], [63, 9, 638, 55], [9, 638, 55, 639], [638, 55, 639, 161], [55, 639, 161, 1], [639, 161, 1, 640], [161, 1, 640, 641], [1, 640, 641, 22], [640, 641, 22, 3], [641, 22, 3, 642], [22, 3, 642, 207], [3, 642, 207, 100], [642, 207, 100, 208], [207, 100, 208, 209], [100, 208, 209, 643], [208, 209, 643, 29], [209, 643, 29, 644], [643, 29, 644, 645, 21], [29, 644, 645, 21, 1], [644, 645, 21, 1, 646], [645, 21, 1, 646, 14], [1, 646, 14, 49], [646, 14, 49, 100], [14, 49, 100, 101], [49, 100, 101, 125], [100, 101, 125, 647], [101, 125, 647, 648], [125, 647, 648, 86], [647, 648, 86, 192], [648, 86, 192, 649], [86, 192, 649, 210], [192, 649, 210, 18], [649, 210, 18, 193], [210, 18, 193, 211], [18, 193, 211, 650], [193, 211, 650, 212], [211, 650, 212, 86], [650, 212, 86, 651], [212, 86, 651, 150], [86, 651, 150, 652], [651, 150, 652, 653], [150, 652, 653, 49], [652, 653, 49, 654], [653, 49, 654, 98], [49, 654, 98, 207], [654, 98, 207, 210], [98, 207, 210, 655], [207, 210, 655, 166], [210, 655, 166, 656], [655, 166, 656, 8], [166, 656, 8, 37], [656, 8, 37, 44], [8, 37, 44, 102], [37, 44, 102, 657], [44, 102, 657, 15], [102, 657, 15, 658], [657, 15, 658, 659], [15, 658, 659, 660], [658, 659, 660, 661], [659, 660, 661, 662], [660, 661, 662, 663], [661, 662, 663, 101], [662, 663, 101, 664], [663, 101, 664, 665], [101, 664, 665, 666], [664, 665, 666, 667], [665, 666, 667, 189], [666, 667, 189, 116], [667, 189, 116, 213], [189, 116, 213, 668], [116, 213, 668, 2], [213, 668, 2, 669], [668, 2, 669, 670], [2, 669, 670, 671], [669, 670, 671, 98], [670, 671, 98, 102], [671, 98, 102, 672], [98, 102, 672, 4], [102, 672, 4, 211], [672, 4, 211, 67], [4, 211, 67, 201], [211, 67, 201, 673], [67, 201, 673, 674], [201, 673, 674, 68], [673, 674, 68, 675], [674, 68, 675, 676], [68, 675, 676, 68], [675, 676, 68, 203], [676, 68, 203, 677], [68, 203, 677, 678], [203, 677, 678, 679], [677, 678, 679, 9], [678, 679, 9, 680], [679, 9, 680, 681], [9, 680, 681, 682], [680, 681, 682, 683], [681, 682, 683, 4], [682, 683, 4, 684], [683, 4, 684, 29], [4, 684, 29, 103], [684, 29, 103, 198], [29, 103, 198, 685], [103, 198, 685, 686], [198, 685, 686, 87], [685, 686, 87, 687], [686, 87, 687, 48], [87, 687, 48, 688], [687, 48, 688, 689], [48, 688, 689, 690], [688, 689, 690, 691], [689, 690, 691, 692], [690, 691, 692, 693], [691, 692, 693, 694], [692, 693, 694, 68], [693, 694, 68, 695], [694, 68, 695, 696], [68, 695, 696, 697], [695, 696, 697, 34], [696, 697, 34, 698], [697, 34, 698, 699], [34, 698, 699, 214], [698, 699, 214, 700], [699, 214, 700, 701], [214, 700, 701, 702], [700, 701, 702, 703], [701, 702, 703, 704], [702, 703, 704, 3], [703, 704, 3, 705], [704, 3, 705, 153], [3, 705, 153, 105], [705, 153, 105, 706], [153, 105, 706, 101], [105, 706, 101, 78], [706, 101, 78, 119], [101, 78, 119, 3], [78, 119, 3, 707], [119, 3, 707, 708], [3, 707, 708, 709], [707, 708, 709, 7], [708, 709, 7, 710], [709, 7, 710, 15], [7, 710, 15, 711, 712], [710, 15, 711, 712, 197], [15, 711, 712, 197, 713], [711, 712, 197, 713, 714], [197, 713, 714, 715, 716], [713, 714, 715, 716, 79], [714, 715, 716, 79, 18], [715, 716, 79, 18, 717], [79, 18, 717, 718], [18, 717, 718, 719], [717, 718, 719, 720], [718, 719, 720, 159], [719, 720, 159, 721], [720, 159, 721, 73], [159, 721, 73, 51], [721, 73, 51, 722], [73, 51, 722, 23], [51, 722, 23, 100], [722, 23, 100, 3], [23, 100, 3, 723], [100, 3, 723, 724], [3, 723, 724, 725], [723, 724, 725, 23], [724, 725, 23, 215], [725, 23, 215, 726], [23, 215, 726, 13], [215, 726, 13, 51], [726, 13, 51, 144], [13, 51, 144, 727], [51, 144, 727, 64], [144, 727, 64, 33], [727, 64, 33, 728], [64, 33, 728, 729], [33, 728, 729, 730], [728, 729, 730, 731], [729, 730, 731, 732], [730, 731, 732, 733], [731, 732, 733, 734], [732, 733, 734, 735], [733, 734, 735, 215], [734, 735, 215, 216], [735, 215, 216, 128], [215, 216, 128, 736], [216, 128, 736, 737], [128, 736, 737, 32], [736, 737, 32, 738], [737, 32, 738, 217], [32, 738, 217, 739], [738, 217, 739, 740], [217, 739, 740, 741], [739, 740, 741, 742], [740, 741, 742, 743], [741, 742, 743, 744], [742, 743, 744, 745], [743, 744, 745, 746], [744, 745, 746, 747], [745, 746, 747, 748], [746, 747, 748, 749], [747, 748, 749, 750], [748, 749, 750, 751], [749, 750, 751, 752], [750, 751, 752, 35], [751, 752, 35, 25], [752, 35, 25, 753], [35, 25, 753, 754], [25, 753, 754, 755], [753, 754, 755, 756], [754, 755, 756, 757], [755, 756, 757, 758], [756, 757, 758, 3], [757, 758, 3, 759], [758, 3, 759, 79], [3, 759, 79, 760], [759, 79, 760, 761], [79, 760, 761, 762], [760, 761, 762, 763], [761, 762, 763, 764], [762, 763, 764, 765], [763, 764, 765, 766], [764, 765, 766, 34], [765, 766, 34, 767], [766, 34, 767, 768], [34, 767, 768, 91], [767, 768, 91, 11], [768, 91, 11, 769], [91, 11, 769, 770], [11, 769, 770, 771], [769, 770, 771, 28], [770, 771, 28, 772], [771, 28, 772, 773], [28, 772, 773, 774], [772, 773, 774, 775], [773, 774, 775, 776], [774, 775, 776, 777], [775, 776, 777, 778], [776, 777, 778, 779], [777, 778, 779, 169], [778, 779, 169, 780], [779, 169, 780, 4], [169, 780, 4, 781], [780, 4, 781, 782], [4, 781, 782, 783], [781, 782, 783, 784], [782, 783, 784, 218], [783, 784, 218, 785], [784, 218, 785, 34], [218, 785, 34, 16], [785, 34, 16, 786], [34, 16, 786, 787], [16, 786, 787, 788], [786, 787, 788, 2], [787, 788, 2, 789], [788, 2, 789, 219], [2, 789, 219, 54], [789, 219, 54, 35], [219, 54, 35, 69], [54, 35, 69, 790], [35, 69, 790, 791], [69, 790, 791, 103], [790, 791, 103, 792], [791, 103, 792, 793, 794], [103, 792, 793, 794, 795], [792, 793, 794, 795, 796], [793, 794, 795, 796, 34], [795, 796, 34, 6], [796, 34, 6, 797], [34, 6, 797, 798], [6, 797, 798, 799], [797, 798, 799, 800], [798, 799, 800, 801], [799, 800, 801, 802], [800, 801, 802, 803], [801, 802, 803, 179], [802, 803, 179, 25], [803, 179, 25, 804], [179, 25, 804, 805], [25, 804, 805, 199], [804, 805, 199, 806], [805, 199, 806, 12], [199, 806, 12, 807], [806, 12, 807, 808], [12, 807, 808, 5], [807, 808, 5, 9], [808, 5, 9, 90], [5, 9, 90, 809], [9, 90, 809, 810], [90, 809, 810, 811], [809, 810, 811, 43], [810, 811, 43, 812], [811, 43, 812, 5], [43, 812, 5, 813], [812, 5, 813, 43], [5, 813, 43, 814], [813, 43, 814, 815], [43, 814, 815, 816], [814, 815, 816, 817], [815, 816, 817, 818], [816, 817, 818, 819], [817, 818, 819, 5], [818, 819, 5, 63], [819, 5, 63, 820], [5, 63, 820, 31], [63, 820, 31, 26], [820, 31, 26, 152], [31, 26, 152, 821], [26, 152, 821, 12], [152, 821, 12, 25], [821, 12, 25, 822], [12, 25, 822, 5], [25, 822, 5, 4], [822, 5, 4, 214], [5, 4, 214, 823], [4, 214, 823, 17], [214, 823, 17, 824], [823, 17, 824, 825], [17, 824, 825, 826], [824, 825, 826, 827], [825, 826, 827, 9], [826, 827, 9, 828], [827, 9, 828, 829], [9, 828, 829, 830], [828, 829, 830, 17], [829, 830, 17, 831], [830, 17, 831, 832], [17, 831, 832, 216], [831, 832, 216, 833], [832, 216, 833, 54], [216, 833, 54, 35], [833, 54, 35, 69], [54, 35, 69, 9], [35, 69, 9, 11], [69, 9, 11, 134], [9, 11, 134, 37], [11, 134, 37, 834], [134, 37, 834, 835], [37, 834, 835, 836], [834, 835, 836, 12], [835, 836, 12, 213], [836, 12, 213, 18], [12, 213, 18, 837], [213, 18, 837, 16], [18, 837, 16, 186], [837, 16, 186, 10], [16, 186, 10, 838], [186, 10, 838, 839], [10, 838, 839, 840], [838, 839, 840, 50], [839, 840, 50, 68], [840, 50, 68, 841], [50, 68, 841, 842], [68, 841, 842, 5], [841, 842, 5, 843], [842, 5, 843, 844], [5, 843, 844, 845], [843, 844, 845, 2], [844, 845, 2, 12], [845, 2, 12, 846], [2, 12, 846, 847], [12, 846, 847, 848], [846, 847, 848, 849], [847, 848, 849, 850], [848, 849, 850, 851], [849, 850, 851, 218], [850, 851, 218, 33], [851, 218, 33, 3], [218, 33, 3, 37], [33, 3, 37, 852], [3, 37, 852, 853], [37, 852, 853, 854], [852, 853, 854, 9], [853, 854, 9, 855], [854, 9, 855, 856], [9, 855, 856, 857], [855, 856, 857, 858], [856, 857, 858, 6], [857, 858, 6, 859], [858, 6, 859, 220], [6, 859, 220, 860], [859, 220, 860, 861], [220, 860, 861, 3], [860, 861, 3, 862], [861, 3, 862, 863], [3, 862, 863, 2], [862, 863, 2, 864], [863, 2, 864, 52], [2, 864, 52, 12], [864, 52, 12, 865], [52, 12, 865, 866], [12, 865, 866, 52], [865, 866, 52, 12], [866, 52, 12, 867], [52, 12, 867, 96], [12, 867, 96, 868], [867, 96, 868, 212], [96, 868, 212, 29], [868, 212, 29, 120], [212, 29, 120, 43], [29, 120, 43, 135], [120, 43, 135, 221], [43, 135, 221, 869], [135, 221, 869, 12], [221, 869, 12, 870], [869, 12, 870, 18], [12, 870, 18, 871], [870, 18, 871, 9], [18, 871, 9, 872], [871, 9, 872, 102], [9, 872, 102, 3], [872, 102, 3, 2], [102, 3, 2, 222], [3, 2, 222, 2], [2, 222, 2, 222], [222, 2, 222, 873], [2, 222, 873, 54], [222, 873, 54, 35], [873, 54, 35, 69], [54, 35, 69, 12], [35, 69, 12, 223], [69, 12, 223, 874], [12, 223, 874, 2], [223, 874, 2, 875], [874, 2, 875, 4], [2, 875, 4, 224], [875, 4, 224, 876], [4, 224, 876, 4], [224, 876, 4, 224], [876, 4, 224, 877], [4, 224, 877, 12], [224, 877, 12, 220], [877, 12, 220, 878], [12, 220, 878, 11], [220, 878, 11, 879], [878, 11, 879, 880], [11, 879, 880, 881], [879, 880, 881, 103], [880, 881, 103, 49], [881, 103, 49, 882], [103, 49, 882, 883], [49, 882, 883, 884], [882, 883, 884, 885], [883, 884, 885, 4], [884, 885, 4, 223], [885, 4, 223, 886], [4, 223, 886, 16], [223, 886, 16, 887], [886, 16, 887, 36], [16, 887, 36, 25], [887, 36, 25, 196], [36, 25, 196, 221], [25, 196, 221, 888], [196, 221, 888, 889], [221, 888, 889, 34], [888, 889, 34, 890], [889, 34, 890, 891], [34, 890, 891, 892], [890, 891, 892, 6], [891, 892, 6, 42], [892, 6, 42, 893], [6, 42, 893, 894], [42, 893, 894, 895], [893, 894, 895, 896], [894, 895, 896, 6], [895, 896, 6, 897], [896, 6, 897, 898], [6, 897, 898, 56], [897, 898, 56, 899], [898, 56, 899, 900], [56, 899, 900, 901], [899, 900, 901, 902], [900, 901, 902, 903], [901, 902, 903, 200], [902, 903, 200, 904], [903, 200, 904, 217], [200, 904, 217, 905], [904, 217, 905, 208], [217, 905, 208, 209], [905, 208, 209, 202], [208, 209, 202, 225], [209, 202, 225, 52], [202, 225, 52, 226], [225, 52, 226, 3], [52, 226, 3, 77], [226, 3, 77, 906], [3, 77, 906, 907], [77, 906, 907, 908], [906, 907, 908, 12], [907, 908, 12, 227], [908, 12, 227, 227], [12, 227, 227, 228], [227, 227, 228, 909], [227, 228, 909, 910], [228, 909, 910, 911], [909, 910, 911, 912], [910, 911, 912, 10], [911, 912, 10, 165], [912, 10, 165, 913], [10, 165, 913, 914], [165, 913, 914, 34], [913, 914, 34, 915], [914, 34, 915, 916], [34, 915, 916, 29], [915, 916, 29, 917], [916, 29, 917, 54], [29, 917, 54, 918], [917, 54, 918, 225], [54, 918, 225, 52], [918, 225, 52, 226], [225, 52, 226, 5], [52, 226, 5, 919], [226, 5, 919, 228], [5, 919, 228, 920], [919, 228, 920, 229], [228, 920, 229, 921], [920, 229, 921, 922], [229, 921, 922, 923], [921, 922, 923, 229], [922, 923, 229, 219], [923, 229, 219, 54], [229, 219, 54, 35], [219, 54, 35, 69]]\n"
          ],
          "name": "stdout"
        },
        {
          "output_type": "execute_result",
          "data": {
            "text/plain": [
              "array([list([925, 924, 53, 230]), list([924, 53, 230, 36]),\n",
              "       list([53, 230, 36, 231]), ..., list([923, 229, 219, 54]),\n",
              "       list([229, 219, 54, 35]), list([219, 54, 35, 69])], dtype=object)"
            ]
          },
          "metadata": {
            "tags": []
          },
          "execution_count": 4
        }
      ]
    },
    {
      "cell_type": "code",
      "metadata": {
        "id": "pYln13UM7EoV",
        "colab_type": "code",
        "outputId": "73bedde2-7a8a-4126-efdb-30ce92630e1d",
        "colab": {
          "base_uri": "https://localhost:8080/",
          "height": 34
        }
      },
      "source": [
        "vocab_size = len(tokenizer.word_counts) + 1\n",
        "vocab_size"
      ],
      "execution_count": 0,
      "outputs": [
        {
          "output_type": "execute_result",
          "data": {
            "text/plain": [
              "926"
            ]
          },
          "metadata": {
            "tags": []
          },
          "execution_count": 5
        }
      ]
    },
    {
      "cell_type": "code",
      "metadata": {
        "id": "8IPgduyVf41G",
        "colab_type": "code",
        "outputId": "b5595db0-2243-407a-954e-55cc1c23a403",
        "colab": {
          "base_uri": "https://localhost:8080/",
          "height": 411
        }
      },
      "source": [
        "model = Sequential()\n",
        "model.add(Embedding(input_dim=vocab_size, output_dim=8, input_length=3))\n",
        "model.add(LSTM(32))\n",
        "model.add(Dense(32, activation='relu'))\n",
        "model.add(Dense(vocab_size, activation='softmax'))\n",
        "model.summary()\n"
      ],
      "execution_count": 0,
      "outputs": [
        {
          "output_type": "stream",
          "text": [
            "WARNING:tensorflow:From /usr/local/lib/python3.6/dist-packages/keras/backend/tensorflow_backend.py:66: The name tf.get_default_graph is deprecated. Please use tf.compat.v1.get_default_graph instead.\n",
            "\n",
            "WARNING:tensorflow:From /usr/local/lib/python3.6/dist-packages/keras/backend/tensorflow_backend.py:541: The name tf.placeholder is deprecated. Please use tf.compat.v1.placeholder instead.\n",
            "\n",
            "WARNING:tensorflow:From /usr/local/lib/python3.6/dist-packages/keras/backend/tensorflow_backend.py:4432: The name tf.random_uniform is deprecated. Please use tf.random.uniform instead.\n",
            "\n",
            "Model: \"sequential_1\"\n",
            "_________________________________________________________________\n",
            "Layer (type)                 Output Shape              Param #   \n",
            "=================================================================\n",
            "embedding_1 (Embedding)      (None, 3, 8)              7408      \n",
            "_________________________________________________________________\n",
            "lstm_1 (LSTM)                (None, 32)                5248      \n",
            "_________________________________________________________________\n",
            "dense_1 (Dense)              (None, 32)                1056      \n",
            "_________________________________________________________________\n",
            "dense_2 (Dense)              (None, 926)               30558     \n",
            "=================================================================\n",
            "Total params: 44,270\n",
            "Trainable params: 44,270\n",
            "Non-trainable params: 0\n",
            "_________________________________________________________________\n"
          ],
          "name": "stdout"
        }
      ]
    },
    {
      "cell_type": "code",
      "metadata": {
        "id": "yOL__DRif6_Q",
        "colab_type": "code",
        "outputId": "120da4ae-edcd-42cd-eeed-619daa195c0b",
        "colab": {
          "base_uri": "https://localhost:8080/",
          "height": 105
        }
      },
      "source": [
        "model.compile(optimizer='adam', loss='categorical_crossentropy', metrics=['accuracy'])"
      ],
      "execution_count": 0,
      "outputs": [
        {
          "output_type": "stream",
          "text": [
            "WARNING:tensorflow:From /usr/local/lib/python3.6/dist-packages/keras/optimizers.py:793: The name tf.train.Optimizer is deprecated. Please use tf.compat.v1.train.Optimizer instead.\n",
            "\n",
            "WARNING:tensorflow:From /usr/local/lib/python3.6/dist-packages/keras/backend/tensorflow_backend.py:3576: The name tf.log is deprecated. Please use tf.math.log instead.\n",
            "\n"
          ],
          "name": "stdout"
        }
      ]
    },
    {
      "cell_type": "code",
      "metadata": {
        "id": "GHFpP8X0gM-F",
        "colab_type": "code",
        "outputId": "e70263e6-41e5-4227-802f-b2bc4bb74c2b",
        "colab": {
          "base_uri": "https://localhost:8080/",
          "height": 68
        }
      },
      "source": [
        "np_sequences = np.array(sequences)\n",
        "pain = pad_sequences(np_sequences)\n",
        "\n",
        "np_sequences\n"
      ],
      "execution_count": 0,
      "outputs": [
        {
          "output_type": "execute_result",
          "data": {
            "text/plain": [
              "array([list([925, 924, 53, 230]), list([924, 53, 230, 36]),\n",
              "       list([53, 230, 36, 231]), ..., list([923, 229, 219, 54]),\n",
              "       list([229, 219, 54, 35]), list([219, 54, 35, 69])], dtype=object)"
            ]
          },
          "metadata": {
            "tags": []
          },
          "execution_count": 8
        }
      ]
    },
    {
      "cell_type": "code",
      "metadata": {
        "id": "VCXTmKXkHtRR",
        "colab_type": "code",
        "outputId": "64beb6f4-6bd6-443b-b51e-247ec8f2d42e",
        "colab": {
          "base_uri": "https://localhost:8080/",
          "height": 136
        }
      },
      "source": [
        "pain"
      ],
      "execution_count": 0,
      "outputs": [
        {
          "output_type": "execute_result",
          "data": {
            "text/plain": [
              "array([[  0, 925, 924,  53, 230],\n",
              "       [  0, 924,  53, 230,  36],\n",
              "       [  0,  53, 230,  36, 231],\n",
              "       ...,\n",
              "       [  0, 923, 229, 219,  54],\n",
              "       [  0, 229, 219,  54,  35],\n",
              "       [  0, 219,  54,  35,  69]], dtype=int32)"
            ]
          },
          "metadata": {
            "tags": []
          },
          "execution_count": 9
        }
      ]
    },
    {
      "cell_type": "code",
      "metadata": {
        "id": "I9jz4YjdWG2I",
        "colab_type": "code",
        "outputId": "bdc187b9-58f0-4c0d-9ca3-d38d3f3035d5",
        "colab": {
          "base_uri": "https://localhost:8080/",
          "height": 34
        }
      },
      "source": [
        "np.shape(pain)"
      ],
      "execution_count": 0,
      "outputs": [
        {
          "output_type": "execute_result",
          "data": {
            "text/plain": [
              "(1557, 5)"
            ]
          },
          "metadata": {
            "tags": []
          },
          "execution_count": 10
        }
      ]
    },
    {
      "cell_type": "code",
      "metadata": {
        "id": "0zguPXAISdu3",
        "colab_type": "code",
        "colab": {}
      },
      "source": [
        "pain=np.delete(pain,0,1)\n"
      ],
      "execution_count": 0,
      "outputs": []
    },
    {
      "cell_type": "code",
      "metadata": {
        "id": "QQ_pUhQsYj8A",
        "colab_type": "code",
        "outputId": "87bbf6c6-3545-4567-86aa-cce8b6c24f2a",
        "colab": {
          "base_uri": "https://localhost:8080/",
          "height": 34
        }
      },
      "source": [
        "pain=np.delete(pain,0,1)\n",
        "pain=np.delete(pain,0,1)\n",
        "pain=np.delete(pain,0,1)\n",
        "pain=np.delete(pain,0,1)\n",
        "pain"
      ],
      "execution_count": 0,
      "outputs": [
        {
          "output_type": "execute_result",
          "data": {
            "text/plain": [
              "array([], shape=(1557, 0), dtype=int32)"
            ]
          },
          "metadata": {
            "tags": []
          },
          "execution_count": 12
        }
      ]
    },
    {
      "cell_type": "code",
      "metadata": {
        "id": "FDDRxmAogW3G",
        "colab_type": "code",
        "colab": {}
      },
      "source": [
        "X = pain[:,:3]"
      ],
      "execution_count": 0,
      "outputs": []
    },
    {
      "cell_type": "code",
      "metadata": {
        "id": "KQRPJ87Ngu7H",
        "colab_type": "code",
        "colab": {}
      },
      "source": [
        "y = pain[:,3]\n"
      ],
      "execution_count": 0,
      "outputs": []
    },
    {
      "cell_type": "code",
      "metadata": {
        "id": "h3RLUyYLg0Hr",
        "colab_type": "code",
        "colab": {}
      },
      "source": [
        "y = to_categorical(y, num_classes=vocab_size)\n"
      ],
      "execution_count": 0,
      "outputs": []
    },
    {
      "cell_type": "code",
      "metadata": {
        "id": "duXVRIcEg8Zt",
        "colab_type": "code",
        "colab": {}
      },
      "source": [
        "history = model.fit(X,y,epochs=1, verbose=0)"
      ],
      "execution_count": 0,
      "outputs": []
    },
    {
      "cell_type": "code",
      "metadata": {
        "id": "ZX4sY6uLw230",
        "colab_type": "code",
        "outputId": "f9850064-d9fa-47d7-971d-61c8dc30c62d",
        "colab": {
          "base_uri": "https://localhost:8080/",
          "height": 278
        }
      },
      "source": [
        "import matplotlib.pyplot as plt\n",
        "\n",
        "def plot_graphs(history, string):\n",
        "\tplt.plot(history.history[string])\n",
        "\tplt.xlabel('Epochs')\n",
        "\tplt.ylabel(string)\n",
        "\tplt.show()\n",
        "\t\n",
        "plot_graphs(history, 'acc')"
      ],
      "execution_count": 0,
      "outputs": [
        {
          "output_type": "display_data",
          "data": {
            "image/png": "[encoded data removed]",
            "text/plain": [
              "<Figure size 432x288 with 1 Axes>"
            ]
          },
          "metadata": {
            "tags": []
          }
        }
      ]
    },
    {
      "cell_type": "code",
      "metadata": {
        "id": "dzoddTBxcfpX",
        "colab_type": "code",
        "outputId": "569af958-ed61-4201-adf6-68ca0f20b5d6",
        "colab": {
          "base_uri": "https://localhost:8080/",
          "height": 278
        }
      },
      "source": [
        "import matplotlib.pyplot as plt\n",
        "\n",
        "def plot_graphs(history, string):\n",
        "\tplt.plot(history.history[string])\n",
        "\tplt.xlabel('Epochs')\n",
        "\tplt.ylabel(string)\n",
        "\tplt.show()\n",
        "\t\n",
        "plot_graphs(history, 'loss')"
      ],
      "execution_count": 0,
      "outputs": [
        {
          "output_type": "display_data",
          "data": {
            "image/png": "[encoded data removed]",
            "text/plain": [
              "<Figure size 432x288 with 1 Axes>"
            ]
          },
          "metadata": {
            "tags": []
          }
        }
      ]
    },
    {
      "cell_type": "code",
      "metadata": {
        "id": "VQzn3ym9g_36",
        "colab_type": "code",
        "colab": {}
      },
      "source": [
        "def predict_text(test_text):\n",
        "  if len(test_text.split())!=3:\n",
        "    print('Text input should be 3 words!')\n",
        "    return False\n",
        "  \n",
        "  # Turn the test_text into a sequence of numbers\n",
        "  test_seq = tokenizer.texts_to_sequences([test_text])\n",
        "  test_seq = np.array(test_seq)\n",
        "  # print('test_seq : {}'.format(test_seq))\n",
        "  # test_seq : [[6 4 1]]\n",
        "  \n",
        "  # Get the model prediction from the test_seq\n",
        "  pred = model.predict(test_seq).argmax(axis=1)[0]\n",
        "  # print('pred : {}'.format(pred))\n",
        "  # pred : 7\n",
        "  \n",
        "  # Return the word associated to the prediction\n",
        "  return tokenizer.index_word[pred]"
      ],
      "execution_count": 0,
      "outputs": []
    },
    {
      "cell_type": "code",
      "metadata": {
        "id": "NPY2pmOOZr_F",
        "colab_type": "code",
        "outputId": "09f39407-13e9-4cc2-c6cd-c2d65fc386b8",
        "colab": {
          "base_uri": "https://localhost:8080/",
          "height": 34
        }
      },
      "source": [
        "text = 'বাংলাদেশ কবে'\n",
        "predict_text(text)"
      ],
      "execution_count": 0,
      "outputs": [
        {
          "output_type": "execute_result",
          "data": {
            "text/plain": [
              "'‘'"
            ]
          },
          "metadata": {
            "tags": []
          },
          "execution_count": 75
        }
      ]
    },
    {
      "cell_type": "code",
      "metadata": {
        "id": "DTOOxV5JUCMV",
        "colab_type": "code",
        "colab": {}
      },
      "source": [
        "text = 'বাংলাদেশ কবে'\n",
        "print(text, end = ' ')\n",
        "story = [text]\n",
        "for i in range(82):\n",
        "  result = predict_text(text)\n",
        "  print(result,end = ' ')\n",
        "  if i%10 == 0 and i!=0:\n",
        "    print(result)\n",
        "  story.append(result)\n",
        "  #print('result : {}'.format(result))\n",
        "  text += ' ' + result\n",
        "  #print('new text : {}'.format(text))\n",
        "  text = ' '.join(text.split()[1:])\n",
        "  \n",
        "\n",
        "story = \" \".join(str(x) for x in story)\n",
        "print(story)"
      ],
      "execution_count": 0,
      "outputs": []
    }
  ]
}